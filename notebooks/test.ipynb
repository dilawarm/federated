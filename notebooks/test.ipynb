{
 "metadata": {
  "orig_nbformat": 2,
  "kernelspec": {
   "name": "python3",
   "display_name": "Python 3",
   "language": "python"
  }
 },
 "nbformat": 4,
 "nbformat_minor": 2,
 "cells": [
  {
   "cell_type": "code",
   "execution_count": 1,
   "metadata": {},
   "outputs": [],
   "source": [
    "from sklearn.datasets import load_diabetes\n",
    "import numpy as np\n",
    "\n",
    "import phe as paillier\n",
    "\n",
    "seed = 43\n",
    "np.random.seed(seed)\n",
    "\n",
    "\n",
    "def get_data(n_clients):\n",
    "    \"\"\"\n",
    "    Import the dataset via sklearn, shuffle and split train/test.\n",
    "    Return training, target list for `n_clients` and a holdout test set\n",
    "    \"\"\"\n",
    "    print(\"Loading data\")\n",
    "    diabetes = load_diabetes()\n",
    "    y = diabetes.target\n",
    "    X = diabetes.data\n",
    "    # Add constant to eumalte intercept\n",
    "    X = np.c_[X, np.ones(X.shape[0])]\n",
    "\n",
    "    # The features are already preprocessed\n",
    "    # Shuffle\n",
    "    perm = np.random.permutation(X.shape[0])\n",
    "    X, y = X[perm, :], y[perm]\n",
    "\n",
    "    # Select test at random\n",
    "    test_size = 50\n",
    "    test_idx = np.random.choice(X.shape[0], size=test_size, replace=False)\n",
    "    train_idx = np.ones(X.shape[0], dtype=bool)\n",
    "    train_idx[test_idx] = False\n",
    "    X_test, y_test = X[test_idx, :], y[test_idx]\n",
    "    X_train, y_train = X[train_idx, :], y[train_idx]\n",
    "\n",
    "    # Split train among multiple clients.\n",
    "    # The selection is not at random. We simulate the fact that each client\n",
    "    # sees a potentially very different sample of patients.\n",
    "    X, y = [], []\n",
    "    step = int(X_train.shape[0] / n_clients)\n",
    "    for c in range(n_clients):\n",
    "        X.append(X_train[step * c : step * (c + 1), :])\n",
    "        y.append(y_train[step * c : step * (c + 1)])\n",
    "\n",
    "    return X, y, X_test, y_test"
   ]
  },
  {
   "cell_type": "code",
   "execution_count": 2,
   "metadata": {},
   "outputs": [
    {
     "output_type": "stream",
     "name": "stdout",
     "text": [
      "Loading data\n"
     ]
    }
   ],
   "source": [
    "X, y, X_test, y_test = get_data(5)"
   ]
  },
  {
   "cell_type": "code",
   "execution_count": 14,
   "metadata": {},
   "outputs": [
    {
     "output_type": "execute_result",
     "data": {
      "text/plain": [
       "numpy.float64"
      ]
     },
     "metadata": {},
     "execution_count": 14
    }
   ],
   "source": [
    "type(y[0][0])"
   ]
  },
  {
   "cell_type": "code",
   "execution_count": null,
   "metadata": {},
   "outputs": [],
   "source": []
  }
 ]
}