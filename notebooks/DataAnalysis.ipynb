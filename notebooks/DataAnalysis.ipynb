{
 "metadata": {
  "language_info": {
   "codemirror_mode": {
    "name": "ipython",
    "version": 3
   },
   "file_extension": ".py",
   "mimetype": "text/x-python",
   "name": "python",
   "nbconvert_exporter": "python",
   "pygments_lexer": "ipython3",
   "version": "3.8.5"
  },
  "orig_nbformat": 2,
  "kernelspec": {
   "name": "python385jvsc74a57bd0a8168dad468f0441bbb6e967433b38f91f1091584c45e1ceabd47b46bd3b23c4",
   "display_name": "Python 3.8.5  ('venv': venv)"
  },
  "metadata": {
   "interpreter": {
    "hash": "a8168dad468f0441bbb6e967433b38f91f1091584c45e1ceabd47b46bd3b23c4"
   }
  }
 },
 "nbformat": 4,
 "nbformat_minor": 2,
 "cells": [
  {
   "cell_type": "code",
   "execution_count": null,
   "metadata": {},
   "outputs": [],
   "source": [
    "import pandas as pd\n",
    "import matplotlib.pyplot as plt\n",
    "import numpy as np"
   ]
  },
  {
   "source": [
    "## Reading in data"
   ],
   "cell_type": "markdown",
   "metadata": {}
  },
  {
   "cell_type": "code",
   "execution_count": null,
   "metadata": {},
   "outputs": [],
   "source": [
    "mitbih_train_df = pd.read_csv(\"../data/mitbih/mitbih_train.csv\", header=None)\n",
    "mitbih_test_df = pd.read_csv(\"../data/mitbih/mitbih_test.csv\", header=None)"
   ]
  },
  {
   "cell_type": "code",
   "execution_count": null,
   "metadata": {},
   "outputs": [],
   "source": [
    "mitbih_train_df.head()"
   ]
  },
  {
   "cell_type": "code",
   "execution_count": null,
   "metadata": {},
   "outputs": [],
   "source": [
    "mitbih_train_df.shape"
   ]
  },
  {
   "cell_type": "code",
   "execution_count": null,
   "metadata": {},
   "outputs": [],
   "source": [
    "mitbih_test_df.head()"
   ]
  },
  {
   "cell_type": "code",
   "execution_count": null,
   "metadata": {},
   "outputs": [],
   "source": [
    "mitbih_test_df.shape"
   ]
  },
  {
   "source": [
    "## Looking at data distribution"
   ],
   "cell_type": "markdown",
   "metadata": {}
  },
  {
   "cell_type": "code",
   "execution_count": null,
   "metadata": {},
   "outputs": [],
   "source": [
    "mitbih_train_df[187] = mitbih_train_df[187].astype(int)\n",
    "count = mitbih_train_df[187].value_counts()\n",
    "labels = [\"normal beats\", \"Supra. beats\", \"Ventric. beats\", \"Fusion beats\", \"Unknown beats\"]\n",
    "\n",
    "plt.figure(figsize=(10, 10))\n",
    "pie = plt.Circle((0, 0), 0.7, color=\"white\")\n",
    "plt.pie(count, labels=[\"Normal beats\", \"Supra. beats\", \"Ventric. beats\", \"Fusion beats\", \"Unknown beats\"], colors=[\"green\", \"blue\", \"yellow\", \"purple\", \"lightblue\"], autopct='%1.0f%%')\n",
    "p = plt.gcf()\n",
    "p.gca().add_artist(pie)\n",
    "\n",
    "plt.savefig(f\"images/data_distro.pdf\", bbox_inches='tight')\n",
    "plt.show()"
   ]
  },
  {
   "source": [
    "## Looking at the ECG-signals for the different classes"
   ],
   "cell_type": "markdown",
   "metadata": {}
  },
  {
   "cell_type": "code",
   "execution_count": null,
   "metadata": {},
   "outputs": [],
   "source": [
    "samples = mitbih_train_df.groupby(187, group_keys=False).apply(lambda mitbih_train_df: mitbih_train_df.sample(1))\n",
    "samples"
   ]
  },
  {
   "cell_type": "code",
   "execution_count": null,
   "metadata": {},
   "outputs": [],
   "source": [
    "plt.figure(figsize=(20, 20))\n",
    "for i, name in enumerate([\"Normal beats\", \"Supra. beats\", \"Ventric. beats\", \"Fusion beats\", \"Unknown beats\"]):\n",
    "    plt.subplot(3,3,i+1)\n",
    "    plt.xlabel(\"ms\")\n",
    "    plt.ylabel(\"mV\")\n",
    "    plt.plot(samples.iloc[i,:186])\n",
    "    plt.title(name)\n",
    "\n",
    "plt.savefig(\"images/graphs_ecg_2.png\", dpi=960)"
   ]
  },
  {
   "source": [
    "## Time series heatmap for the different classes"
   ],
   "cell_type": "markdown",
   "metadata": {}
  },
  {
   "cell_type": "code",
   "execution_count": null,
   "metadata": {},
   "outputs": [],
   "source": [
    "def heatmap(df, class_label, min_val, size, title):\n",
    "    img = df.loc[mitbih_train_df[187]==class_label].values\n",
    "    img = img[:, min_val:size]\n",
    "    img_flatten = img.flatten()\n",
    "\n",
    "    final = np.arange(min_val, size)\n",
    "    for _ in range(img.shape[0]-1):\n",
    "        tempo = np.arange(min_val, size)\n",
    "        final = np.concatenate((final, tempo), axis=None)\n",
    "    plt.hist2d(final, img_flatten, bins=(65, 65), cmap=plt.cm.jet)\n",
    "    plt.colorbar()\n",
    "    plt.title('2D Histogram - '+ title)"
   ]
  },
  {
   "cell_type": "code",
   "execution_count": null,
   "metadata": {},
   "outputs": [],
   "source": [
    "plt.figure(figsize=(20, 20))\n",
    "for i, name in enumerate([\"Normal beats\", \"Supra. beats\", \"Ventric. beats\", \"Fusion beats\", \"Unknown beats\"]):\n",
    "    plt.subplot(3,3,i+1)\n",
    "    plt.xlabel(\"ms\")\n",
    "    plt.ylabel(\"mV\")\n",
    "    heatmap(mitbih_train_df, i, 5, 70, name)\n",
    "\n",
    "plt.savefig(f\"images/2d_histogram.pdf\", bbox_inches='tight')\n",
    "plt.show()"
   ]
  },
  {
   "cell_type": "code",
   "execution_count": null,
   "metadata": {},
   "outputs": [],
   "source": [
    "from sklearn.utils import resample\n",
    "df_1=mitbih_train_df[mitbih_train_df[187]==1]\n",
    "df_2=mitbih_train_df[mitbih_train_df[187]==2]\n",
    "df_3=mitbih_train_df[mitbih_train_df[187]==3]\n",
    "df_4=mitbih_train_df[mitbih_train_df[187]==4]\n",
    "df_0=(mitbih_train_df[mitbih_train_df[187]==0]).sample(n=20000,random_state=42)\n",
    "\n",
    "df_1_upsample=resample(df_1,replace=True,n_samples=20000,random_state=123)\n",
    "df_2_upsample=resample(df_2,replace=True,n_samples=20000,random_state=124)\n",
    "df_3_upsample=resample(df_3,replace=True,n_samples=20000,random_state=125)\n",
    "df_4_upsample=resample(df_4,replace=True,n_samples=20000,random_state=126)\n",
    "\n",
    "train_df=pd.concat([df_0,df_1_upsample,df_2_upsample,df_3_upsample,df_4_upsample])"
   ]
  },
  {
   "cell_type": "code",
   "execution_count": null,
   "metadata": {},
   "outputs": [],
   "source": [
    "train_df[187] = train_df[187].astype(int)\n",
    "count = train_df[187].value_counts()\n",
    "labels = [\"normal beats\", \"Supra. beats\", \"Ventric. beats\", \"Fusion beats\", \"Unknown beats\"]\n",
    "\n",
    "plt.figure(figsize=(10, 10))\n",
    "pie = plt.Circle((0, 0), 0.7, color=\"white\")\n",
    "plt.pie(count, labels=[\"normal beats\", \"Supra. beats\", \"Ventric. beats\", \"Fusion beats\", \"Unknown beats\"], colors=[\"green\", \"blue\", \"yellow\", \"purple\", \"lightblue\"], autopct='%1.0f%%')\n",
    "p = plt.gcf()\n",
    "p.gca().add_artist(pie)\n",
    "plt.savefig(f\"images/data_distribution_after_datapreprocessing.pdf\", bbox_inches='tight')\n",
    "plt.show()"
   ]
  },
  {
   "cell_type": "code",
   "execution_count": null,
   "metadata": {},
   "outputs": [],
   "source": []
  }
 ]
}