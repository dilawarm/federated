{
 "metadata": {
  "language_info": {
   "codemirror_mode": {
    "name": "ipython",
    "version": 3
   },
   "file_extension": ".py",
   "mimetype": "text/x-python",
   "name": "python",
   "nbconvert_exporter": "python",
   "pygments_lexer": "ipython3",
   "version": "3.6.9-final"
  },
  "orig_nbformat": 2,
  "kernelspec": {
   "name": "python3",
   "display_name": "Python 3.6.9 64-bit",
   "metadata": {
    "interpreter": {
     "hash": "31f2aee4e71d21fbe5cf8b01ff0e069b9275f58929596ceb00d14d90e3e16cd6"
    }
   }
  }
 },
 "nbformat": 4,
 "nbformat_minor": 2,
 "cells": [
  {
   "cell_type": "code",
   "execution_count": 1,
   "metadata": {},
   "outputs": [],
   "source": [
    "from Pyfhel import Pyfhel, PyPtxt, PyCtxt\n",
    "import numpy as np"
   ]
  },
  {
   "cell_type": "code",
   "execution_count": 15,
   "metadata": {},
   "outputs": [],
   "source": [
    "HE = Pyfhel()\n",
    "HE.contextGen(p=65537, m=2048, base=3, flagBatching=True, intDigits=64, fracDigits = 3) \n",
    "HE.keyGen()  "
   ]
  },
  {
   "cell_type": "code",
   "execution_count": 16,
   "metadata": {},
   "outputs": [],
   "source": [
    "array1 = np.array([-6, -5, -4, -3, -2, -1],dtype=np.float64)\n",
    "array2 = np.array([12, 15, 18, 21, 24, 27],dtype=np.float64)"
   ]
  },
  {
   "cell_type": "code",
   "execution_count": 19,
   "metadata": {},
   "outputs": [
    {
     "output_type": "stream",
     "name": "stdout",
     "text": [
      "3. Encrypting floating point values with encryptFrac\n ctxt_f1  <Pyfhel Ciphertext at 0x7f6ee1fe19d8, encoding=FRACTIONAL, size=2/2, noiseBudget=28>\n3\n ctxt_f1  <Pyfhel Ciphertext at 0x7f6ee1b0aaf8, encoding=FRACTIONAL, size=2/2, noiseBudget=28>\n3\n ctxt_f1  <Pyfhel Ciphertext at 0x7f6ee1fe19d8, encoding=FRACTIONAL, size=2/2, noiseBudget=27>\n3\n ctxt_f1  <Pyfhel Ciphertext at 0x7f6ee1b0aaf8, encoding=FRACTIONAL, size=2/2, noiseBudget=27>\n3\n ctxt_f1  <Pyfhel Ciphertext at 0x7f6ee1fe19d8, encoding=FRACTIONAL, size=2/2, noiseBudget=27>\n3\n ctxt_f1  <Pyfhel Ciphertext at 0x7f6ee1b0aaf8, encoding=FRACTIONAL, size=2/2, noiseBudget=28>\n3\n"
     ]
    }
   ],
   "source": [
    "print(\"3. Encrypting floating point values with encryptFrac\")\n",
    "\n",
    "for i in range(len(array1)):\n",
    "    ctxt_f1 = HE.encryptFrac(array1[i])    # Encrypting \n",
    "    print(\" ctxt_f1 \", str(ctxt_f1))\n",
    "    print(HE.getfracDigits())\n",
    "    "
   ]
  },
  {
   "cell_type": "code",
   "execution_count": null,
   "metadata": {},
   "outputs": [],
   "source": []
  }
 ]
}