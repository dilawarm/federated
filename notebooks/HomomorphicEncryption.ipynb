{
 "metadata": {
  "orig_nbformat": 2,
  "kernelspec": {
   "name": "python385jvsc74a57bd0a8168dad468f0441bbb6e967433b38f91f1091584c45e1ceabd47b46bd3b23c4",
   "display_name": "Python 3.8.5  ('venv': venv)"
  },
  "metadata": {
   "interpreter": {
    "hash": "a8168dad468f0441bbb6e967433b38f91f1091584c45e1ceabd47b46bd3b23c4"
   }
  }
 },
 "nbformat": 4,
 "nbformat_minor": 2,
 "cells": [
  {
   "cell_type": "code",
   "execution_count": null,
   "metadata": {},
   "outputs": [],
   "source": [
    "import numpy as np\n",
    "import sys\n",
    "import random\n",
    "from phe import paillier\n",
    "\n",
    "sys.path.append(\"../\")"
   ]
  },
  {
   "cell_type": "code",
   "execution_count": null,
   "metadata": {},
   "outputs": [],
   "source": [
    "from federated.data.data_preprocessing import load_data, create_unbalanced_data"
   ]
  },
  {
   "cell_type": "code",
   "execution_count": null,
   "metadata": {},
   "outputs": [],
   "source": [
    "train_client_data, test_client_data = load_data(normalized=True, data_selector=create_unbalanced_data)"
   ]
  },
  {
   "cell_type": "code",
   "execution_count": null,
   "metadata": {},
   "outputs": [],
   "source": [
    "LIMIT = 1000"
   ]
  },
  {
   "cell_type": "code",
   "execution_count": null,
   "metadata": {},
   "outputs": [],
   "source": [
    "def get_data_for_clients(source):\n",
    "    data = []\n",
    "    for client in range(1, 6):\n",
    "        client_data = source[f\"client_{client}\"]\n",
    "        X, y = client_data[0][:LIMIT], client_data[1][:LIMIT]\n",
    "        client_data = [(X[i].reshape(-1, 1), y[i].reshape(-1, 1)) for i in range(len(X))]\n",
    "        data.append(client_data)\n",
    "    return data"
   ]
  },
  {
   "cell_type": "code",
   "execution_count": null,
   "metadata": {},
   "outputs": [],
   "source": [
    "# http://neuralnetworksanddeeplearning.com/\n",
    "\n",
    "class CrossEntropyCost:\n",
    "\n",
    "    @staticmethod\n",
    "    def fn(a, y):\n",
    "        return np.sum(np.nan_to_num(-y*np.log(a)-(1-y)*np.log(1-a)))\n",
    "    \n",
    "    @staticmethod\n",
    "    def delta(z, a, y):\n",
    "        return (a-y)\n",
    "    \n",
    "class Network:\n",
    "    \n",
    "    def __init__(self, sizes, weights, biases, cost=CrossEntropyCost):\n",
    "        self.num_layers = len(sizes)\n",
    "        self.sizes = sizes\n",
    "        self.biases = biases\n",
    "        self.weights = weights\n",
    "        self.cost = cost\n",
    "    \n",
    "    def feedforward(self, a):\n",
    "        for b, w in zip(self.biases, self.weights):\n",
    "            a = sigmoid(np.dot(w, a)+b)\n",
    "        return a\n",
    "\n",
    "    def SGD(self, training_data, epochs, mini_batch_size, eta):\n",
    "            n = len(training_data)\n",
    "            for j in range(epochs):\n",
    "                random.shuffle(training_data)\n",
    "                mini_batches = [\n",
    "                    training_data[k:k+mini_batch_size]\n",
    "                    for k in range(0, n, mini_batch_size)]\n",
    "                for mini_batch in mini_batches:\n",
    "                    self.update_mini_batch(\n",
    "                        mini_batch, eta, n)\n",
    "        \n",
    "    def update_mini_batch(self, mini_batch, eta, n):\n",
    "        nabla_b = [np.zeros(b.shape) for b in self.biases]\n",
    "        nabla_w = [np.zeros(w.shape) for w in self.weights]\n",
    "        for x, y in mini_batch:\n",
    "            delta_nabla_b, delta_nabla_w = self.backprop(x, y)\n",
    "            nabla_b = [nb+dnb for nb, dnb in zip(nabla_b, delta_nabla_b)]\n",
    "            nabla_w = [nw+dnw for nw, dnw in zip(nabla_w, delta_nabla_w)]\n",
    "        self.biases = [b-(eta/len(mini_batch))*nb\n",
    "                       for b, nb in zip(self.biases, nabla_b)]\n",
    "        self.weights = [w-(eta/len(mini_batch))*nw for w, nw in zip(self.weights, nabla_w)]\n",
    "    \n",
    "    def backprop(self, x, y):\n",
    "        nabla_b = [np.zeros(b.shape) for b in self.biases]\n",
    "        nabla_w = [np.zeros(w.shape) for w in self.weights]\n",
    "        \n",
    "        activation = x\n",
    "        activations = [x]\n",
    "        zs = []\n",
    "        for b, w in zip(self.biases, self.weights):\n",
    "            z = np.dot(w, activation) + b\n",
    "            zs.append(z)\n",
    "            activation = sigmoid(z)\n",
    "            activations.append(activation)\n",
    "        \n",
    "        delta = (self.cost).delta(zs[-1], activations[-1], y)\n",
    "        nabla_b[-1] = delta\n",
    "        nabla_w[-1] = np.dot(delta, activations[-2].transpose())\n",
    "\n",
    "        for l in range(2, self.num_layers):\n",
    "            z = zs[-l]\n",
    "            sp = sigmoid_prime(z)\n",
    "            delta = np.dot(self.weights[-l+1].transpose(), delta) * sp\n",
    "            nabla_b[-l] = delta\n",
    "            nabla_w[-l] = np.dot(delta, activations[-l-1].transpose())\n",
    "        return (nabla_b, nabla_w)\n",
    "    \n",
    "    def accuracy(self, data):\n",
    "        results = [(np.argmax(self.feedforward(x)), y)\n",
    "                       for (x, y) in data]\n",
    "        return sum(int(y[x] == 1.0) for (x, y) in results)\n",
    "    \n",
    "    def total_cost(self, data):\n",
    "        cost = 0.0\n",
    "        for x, y in data:\n",
    "            a = self.feedforward(x)\n",
    "            cost += self.cost.fn(a, y)/len(data)\n",
    "        return cost\n",
    "\n",
    "def sigmoid(z):\n",
    "    return 1\n",
    "\n",
    "def sigmoid_prime(z):\n",
    "    return 1"
   ]
  },
  {
   "cell_type": "code",
   "execution_count": null,
   "metadata": {},
   "outputs": [],
   "source": [
    "class Client:\n",
    "    def __init__(self, name, data, model):\n",
    "        self.name = name\n",
    "        self.data = data\n",
    "        self.model = model\n",
    "    \n",
    "    def train(self):\n",
    "        self.model.SGD(self.data, 3, 32, 0.1)"
   ]
  },
  {
   "cell_type": "code",
   "execution_count": null,
   "metadata": {},
   "outputs": [],
   "source": [
    "class Server:\n",
    "    def __init__(self, model):\n",
    "        self.model = model\n",
    "    \n",
    "    def aggregate(self, updates):\n",
    "        weight_updates = [update.weights for update in updates]\n",
    "        bias_updates = [update.biases for update in updates]\n",
    "\n",
    "        self.model.weights = np.sum(weight_updates, axis=0) / len(weight_updates)\n",
    "        self.model.biases = np.sum(bias_updates, axis=0) / len(bias_updates)"
   ]
  },
  {
   "cell_type": "code",
   "execution_count": null,
   "metadata": {},
   "outputs": [],
   "source": [
    "sizes = [186, 5]\n",
    "weights = [np.random.randn(y, x)/np.sqrt(x) for x, y in zip(sizes[:-1], sizes[1:])]\n",
    "biases = [np.random.randn(y, 1) for y in sizes[1:]]"
   ]
  },
  {
   "cell_type": "code",
   "execution_count": null,
   "metadata": {},
   "outputs": [],
   "source": [
    "keypair = paillier.generate_paillier_keypair(n_length=1024)\n",
    "pubkey, privkey = keypair"
   ]
  },
  {
   "cell_type": "code",
   "execution_count": null,
   "metadata": {},
   "outputs": [],
   "source": [
    "def encrypt(matrix):\n",
    "    matrix_list = []\n",
    "    for i in range(len(matrix)):\n",
    "        arr1 = []\n",
    "        for j in range(matrix[i].shape[0]):\n",
    "            arr2 = []\n",
    "            for k in range(matrix[i].shape[1]):\n",
    "                arr2.append(pubkey.encrypt(matrix[i][j][k]))\n",
    "        \n",
    "            arr2 = np.array(arr2)\n",
    "            arr1.append(arr2)\n",
    "\n",
    "        arr1 = np.array(arr1)\n",
    "        matrix_list.append(arr1)\n",
    "    \n",
    "    return matrix_list"
   ]
  },
  {
   "cell_type": "code",
   "execution_count": null,
   "metadata": {},
   "outputs": [],
   "source": [
    "weights_encrypted = encrypt(weights)\n",
    "biases_encrypted = encrypt(biases)"
   ]
  },
  {
   "cell_type": "code",
   "execution_count": null,
   "metadata": {},
   "outputs": [],
   "source": [
    "model = Network(sizes, weights_encrypted, biases_encrypted)\n",
    "server = Server(model)\n",
    "data = get_data_for_clients(train_client_data)"
   ]
  },
  {
   "cell_type": "code",
   "execution_count": null,
   "metadata": {},
   "outputs": [],
   "source": [
    "for round_number in range(3):\n",
    "    clients = [Client(f\"client_{i+1}\", data[i], server.model) for i in range(5)]\n",
    "    \n",
    "    for client in clients:\n",
    "        client.train()\n",
    "    \n",
    "    updates = [client.model for client in clients]\n",
    "\n",
    "    server.aggregate(updates)\n",
    "\n",
    "    print(f\"Round {round_number} completed.\")"
   ]
  },
  {
   "cell_type": "code",
   "execution_count": null,
   "metadata": {},
   "outputs": [],
   "source": [
    "weights_encrypted = clients[0].model.weights\n",
    "weights_encrypted = np.squeeze(weights_encrypted)"
   ]
  },
  {
   "cell_type": "code",
   "execution_count": null,
   "metadata": {},
   "outputs": [],
   "source": [
    "weights_decrypted = []\n",
    "for i in range(weights_encrypted.shape[0]):\n",
    "    arr = []\n",
    "    for j in range(weights_encrypted.shape[1]):\n",
    "        arr.append(privkey.decrypt(weights_encrypted[i][j]))\n",
    "    \n",
    "    arr = np.array(arr)\n",
    "    weights_decrypted.append(arr)\n",
    "\n",
    "weights_decrypted = np.array(weights_decrypted)"
   ]
  },
  {
   "cell_type": "code",
   "execution_count": null,
   "metadata": {},
   "outputs": [],
   "source": [
    "import matplotlib.pyplot as plt\n",
    "\n",
    "plt.title(\"Normal Hearbeat weights\")\n",
    "\n",
    "plt.plot(weights_decrypted[0, :])\n",
    "\n",
    "plt.show()"
   ]
  },
  {
   "cell_type": "code",
   "execution_count": null,
   "metadata": {},
   "outputs": [],
   "source": [
    "weights_encrypted[0][0].ciphertext(be_secure=False)"
   ]
  }
 ]
}